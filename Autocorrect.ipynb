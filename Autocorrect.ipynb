{
 "cells": [
  {
   "cell_type": "code",
   "execution_count": 1,
   "id": "90685f6f",
   "metadata": {},
   "outputs": [],
   "source": [
    "import re\n",
    "from collections import Counter\n",
    "import numpy as np\n",
    "import pandas as pd"
   ]
  },
  {
   "cell_type": "code",
   "execution_count": 2,
   "id": "6f8c0669",
   "metadata": {},
   "outputs": [],
   "source": [
    "# Read the file and write the words into the list\n",
    "\n",
    "def process_data(file_name):\n",
    "\n",
    "    words = [] \n",
    "    \n",
    "    with open(file_name) as f:\n",
    "        data = f.read()\n",
    "        data = list(data.split('\\n'))\n",
    "        for line in data:\n",
    "            pattern = line.lower()\n",
    "            pattern = re.findall(r\"\\w+\", pattern)\n",
    "            for item in pattern:\n",
    "                words.append(item)\n",
    "    return words"
   ]
  },
  {
   "cell_type": "code",
   "execution_count": 3,
   "id": "2044e008",
   "metadata": {},
   "outputs": [
    {
     "name": "stdout",
     "output_type": "stream",
     "text": [
      "21519\n",
      "The first ten words in the text are: \n",
      "['п', 'їthe', 'project', 'gutenberg', 'ebook', 'of', 'shakespeare', 's', 'sonnets', 'by']\n",
      "There are 3670 unique words in the vocabulary.\n"
     ]
    }
   ],
   "source": [
    "word_l = process_data('shakespeare.txt')\n",
    "print(len(word_l))\n",
    "vocab = set(word_l) \n",
    "print(f\"The first ten words in the text are: \\n{word_l[0:10]}\")\n",
    "print(f\"There are {len(vocab)} unique words in the vocabulary.\")"
   ]
  },
  {
   "cell_type": "code",
   "execution_count": 4,
   "id": "704e8cdf",
   "metadata": {},
   "outputs": [],
   "source": [
    "# Generate the dictionary with the key is a word and the value is the number of times the word appers in the list\n",
    "\n",
    "def get_count(word_l):\n",
    "    \n",
    "    word_count_dict = {} \n",
    "    for word in word_l:\n",
    "        if word in word_count_dict: \n",
    "            word_count_dict[word] += 1\n",
    "        else:\n",
    "            word_count_dict[word] = 1\n",
    "    return word_count_dict"
   ]
  },
  {
   "cell_type": "code",
   "execution_count": 5,
   "id": "da0703ff",
   "metadata": {},
   "outputs": [
    {
     "name": "stdout",
     "output_type": "stream",
     "text": [
      "There are 3670 key values pairs\n",
      "The count for the word 'thee' is 162\n"
     ]
    }
   ],
   "source": [
    "word_count_dict = get_count(word_l)\n",
    "print(f\"There are {len(word_count_dict)} key values pairs\")\n",
    "print(f\"The count for the word 'thee' is {word_count_dict.get('thee',0)}\")"
   ]
  },
  {
   "cell_type": "code",
   "execution_count": 6,
   "id": "a80446b5",
   "metadata": {},
   "outputs": [],
   "source": [
    "# Generate the dictionary with the key is a word and the value is the probability that the word will occur\n",
    "\n",
    "def get_probs(word_count_dict):\n",
    "\n",
    "    probs = {}  \n",
    "    \n",
    "    total = sum(word_count_dict.values())\n",
    "    for word in word_count_dict.keys():\n",
    "        probs[word] = word_count_dict[word] / total     \n",
    "    return probs"
   ]
  },
  {
   "cell_type": "code",
   "execution_count": 7,
   "id": "6e2b77e6",
   "metadata": {},
   "outputs": [
    {
     "name": "stdout",
     "output_type": "stream",
     "text": [
      "Length of probs is 3670\n",
      "P('thee') is 0.0075\n"
     ]
    }
   ],
   "source": [
    "probs = get_probs(word_count_dict)\n",
    "print(f\"Length of probs is {len(probs)}\")\n",
    "print(f\"P('thee') is {probs['thee']:.4f}\")"
   ]
  },
  {
   "cell_type": "code",
   "execution_count": 8,
   "id": "1effcd06",
   "metadata": {},
   "outputs": [],
   "source": [
    "# Function, which return a list of strings with one character deleted\n",
    "\n",
    "def delete_letter(word, verbose=False):\n",
    "    \n",
    "    delete_l = []\n",
    "    split_l = []\n",
    "    \n",
    "    split_l = [(word[:i], word[i:]) for i in range(len(word))]\n",
    "    \n",
    "    delete_l = [L + R[1:] for L, R in split_l if R]\n",
    "\n",
    "    return delete_l"
   ]
  },
  {
   "cell_type": "code",
   "execution_count": 9,
   "id": "10f8c920",
   "metadata": {},
   "outputs": [],
   "source": [
    "delete_word_l = delete_letter(word=\"cans\", verbose=True)"
   ]
  },
  {
   "cell_type": "code",
   "execution_count": 10,
   "id": "624b7095",
   "metadata": {},
   "outputs": [
    {
     "name": "stdout",
     "output_type": "stream",
     "text": [
      "Number of outputs of delete_letter('at') is 2\n"
     ]
    }
   ],
   "source": [
    "print(f\"Number of outputs of delete_letter('at') is {len(delete_letter('at'))}\")"
   ]
  },
  {
   "cell_type": "code",
   "execution_count": 11,
   "id": "482a6878",
   "metadata": {},
   "outputs": [],
   "source": [
    "# Function, which returns a list of all the possible switches\n",
    "\n",
    "def switch_letter(word, verbose=False):\n",
    "    \n",
    "    switch_l = []\n",
    "    split_l = []\n",
    "    \n",
    "    split_l = [(word[:i], word[i:]) for i in range(len(word))]\n",
    "    switch_l = [L + R[1] + R[0] + R[2:] for L, R in split_l if len(R) >= 2]\n",
    "     \n",
    "    return switch_l"
   ]
  },
  {
   "cell_type": "code",
   "execution_count": 12,
   "id": "783e2d46",
   "metadata": {},
   "outputs": [],
   "source": [
    "switch_word_l = switch_letter(word=\"eta\", verbose=True)"
   ]
  },
  {
   "cell_type": "code",
   "execution_count": 13,
   "id": "e7ce9d5c",
   "metadata": {},
   "outputs": [
    {
     "name": "stdout",
     "output_type": "stream",
     "text": [
      "Number of outputs of switch_letter('at') is 1\n"
     ]
    }
   ],
   "source": [
    "print(f\"Number of outputs of switch_letter('at') is {len(switch_letter('at'))}\")"
   ]
  },
  {
   "cell_type": "code",
   "execution_count": 14,
   "id": "203d7ea1",
   "metadata": {},
   "outputs": [],
   "source": [
    "# Function, which returns a list of strings with one replaced letter from the original word.\n",
    "\n",
    "def replace_letter(word, verbose=False):\n",
    "    \n",
    "    letters = 'abcdefghijklmnopqrstuvwxyz'\n",
    "    replace_l = []\n",
    "    split_l = []\n",
    "    \n",
    "    split_l = [(word[:i], word[i:]) for i in range(len(word))]\n",
    "    \n",
    "    replace_l = [L + letter + R[1:] for L, R in split_l for letter in letters if letter != R[0]]\n",
    "    replace_set = replace_l\n",
    "    \n",
    "    replace_l = sorted(list(replace_set))\n",
    "    \n",
    "    return replace_l"
   ]
  },
  {
   "cell_type": "code",
   "execution_count": 15,
   "id": "48df26ba",
   "metadata": {},
   "outputs": [],
   "source": [
    "replace_l = replace_letter(word='can', verbose=True)"
   ]
  },
  {
   "cell_type": "code",
   "execution_count": 16,
   "id": "ff86a098",
   "metadata": {},
   "outputs": [
    {
     "name": "stdout",
     "output_type": "stream",
     "text": [
      "Number of outputs of switch_letter('at') is 1\n"
     ]
    }
   ],
   "source": [
    "print(f\"Number of outputs of switch_letter('at') is {len(switch_letter('at'))}\")"
   ]
  },
  {
   "cell_type": "code",
   "execution_count": 17,
   "id": "a155d2ba",
   "metadata": {},
   "outputs": [],
   "source": [
    "# Function, which returns a list with a letter inserted at every offset\n",
    "\n",
    "def insert_letter(word, verbose=False):\n",
    " \n",
    "    letters = 'abcdefghijklmnopqrstuvwxyz'\n",
    "    insert_l = []\n",
    "    split_l = []\n",
    "    \n",
    "    split_l = [(word[:i], word[i:]) for i in range(len(word)+1)]\n",
    "    insert_l = [(L + letter + R) for L, R in split_l for letter in letters]\n",
    "    \n",
    "    return insert_l"
   ]
  },
  {
   "cell_type": "code",
   "execution_count": 18,
   "id": "b77d8cbb",
   "metadata": {},
   "outputs": [
    {
     "name": "stdout",
     "output_type": "stream",
     "text": [
      "Number of strings output by insert_letter('at') is 78\n"
     ]
    }
   ],
   "source": [
    "insert_l = insert_letter('at', True)\n",
    "print(f\"Number of strings output by insert_letter('at') is {len(insert_l)}\")"
   ]
  },
  {
   "cell_type": "code",
   "execution_count": 19,
   "id": "8e60de42",
   "metadata": {},
   "outputs": [
    {
     "name": "stdout",
     "output_type": "stream",
     "text": [
      "Number of outputs of insert_letter('at') is 78\n"
     ]
    }
   ],
   "source": [
    "print(f\"Number of outputs of insert_letter('at') is {len(insert_letter('at'))}\")"
   ]
  },
  {
   "cell_type": "code",
   "execution_count": 20,
   "id": "ba44dceb",
   "metadata": {},
   "outputs": [],
   "source": [
    "# Get all the possible edits that are one edit away from a word\n",
    "\n",
    "def edit_one_letter(word, allow_switches = True):\n",
    "    \n",
    "    edit_one_set = set()\n",
    "    \n",
    "    draft = delete_letter(word, verbose=False) + insert_letter(word, verbose=False) + replace_letter(word, verbose=False) + switch_letter(word, verbose=False)\n",
    "    edit_one_set = set(draft)\n",
    "\n",
    "    return edit_one_set"
   ]
  },
  {
   "cell_type": "code",
   "execution_count": 21,
   "id": "a7ec698f",
   "metadata": {},
   "outputs": [
    {
     "name": "stdout",
     "output_type": "stream",
     "text": [
      "input word at \n",
      "edit_one_l \n",
      "['a', 'aa', 'aat', 'ab', 'abt', 'ac', 'act', 'ad', 'adt', 'ae', 'aet', 'af', 'aft', 'ag', 'agt', 'ah', 'aht', 'ai', 'ait', 'aj', 'ajt', 'ak', 'akt', 'al', 'alt', 'am', 'amt', 'an', 'ant', 'ao', 'aot', 'ap', 'apt', 'aq', 'aqt', 'ar', 'art', 'as', 'ast', 'ata', 'atb', 'atc', 'atd', 'ate', 'atf', 'atg', 'ath', 'ati', 'atj', 'atk', 'atl', 'atm', 'atn', 'ato', 'atp', 'atq', 'atr', 'ats', 'att', 'atu', 'atv', 'atw', 'atx', 'aty', 'atz', 'au', 'aut', 'av', 'avt', 'aw', 'awt', 'ax', 'axt', 'ay', 'ayt', 'az', 'azt', 'bat', 'bt', 'cat', 'ct', 'dat', 'dt', 'eat', 'et', 'fat', 'ft', 'gat', 'gt', 'hat', 'ht', 'iat', 'it', 'jat', 'jt', 'kat', 'kt', 'lat', 'lt', 'mat', 'mt', 'nat', 'nt', 'oat', 'ot', 'pat', 'pt', 'qat', 'qt', 'rat', 'rt', 'sat', 'st', 't', 'ta', 'tat', 'tt', 'uat', 'ut', 'vat', 'vt', 'wat', 'wt', 'xat', 'xt', 'yat', 'yt', 'zat', 'zt']\n",
      "\n",
      "The type of the returned object should be a set <class 'set'>\n",
      "Number of outputs from edit_one_letter('at') is 129\n"
     ]
    }
   ],
   "source": [
    "tmp_word = \"at\"\n",
    "tmp_edit_one_set = edit_one_letter(tmp_word)\n",
    "\n",
    "tmp_edit_one_l = sorted(list(tmp_edit_one_set))\n",
    "\n",
    "print(f\"input word {tmp_word} \\nedit_one_l \\n{tmp_edit_one_l}\\n\")\n",
    "print(f\"The type of the returned object should be a set {type(tmp_edit_one_set)}\")\n",
    "print(f\"Number of outputs from edit_one_letter('at') is {len(edit_one_letter('at'))}\")"
   ]
  },
  {
   "cell_type": "code",
   "execution_count": 22,
   "id": "c208feb3",
   "metadata": {},
   "outputs": [],
   "source": [
    "# Get two edits on a word\n",
    "\n",
    "def edit_two_letters(word, allow_switches = True):\n",
    "    \n",
    "    edit_two_set = set()\n",
    "    \n",
    "    first = edit_one_letter(word, allow_switches = True)\n",
    "    \n",
    "    edit_two_set = edit_two_set | first\n",
    "    \n",
    "    for item in first:\n",
    "        data = edit_one_letter(item, allow_switches = True)\n",
    "        edit_two_set = edit_two_set | data\n",
    "    \n",
    "    return edit_two_set"
   ]
  },
  {
   "cell_type": "code",
   "execution_count": 23,
   "id": "b5c13b3f",
   "metadata": {},
   "outputs": [
    {
     "name": "stdout",
     "output_type": "stream",
     "text": [
      "Number of strings with edit distance of two: 2654\n",
      "First 10 strings ['', 'a', 'aa', 'aaa', 'aab', 'aac', 'aad', 'aae', 'aaf', 'aag']\n",
      "Last 10 strings ['zv', 'zva', 'zw', 'zwa', 'zx', 'zxa', 'zy', 'zya', 'zz', 'zza']\n",
      "The data type of the returned object should be a set <class 'set'>\n",
      "Number of strings that are 2 edit distances from 'at' is 7154\n"
     ]
    }
   ],
   "source": [
    "tmp_edit_two_set = edit_two_letters(\"a\")\n",
    "tmp_edit_two_l = sorted(list(tmp_edit_two_set))\n",
    "print(f\"Number of strings with edit distance of two: {len(tmp_edit_two_l)}\")\n",
    "print(f\"First 10 strings {tmp_edit_two_l[:10]}\")\n",
    "print(f\"Last 10 strings {tmp_edit_two_l[-10:]}\")\n",
    "print(f\"The data type of the returned object should be a set {type(tmp_edit_two_set)}\")\n",
    "print(f\"Number of strings that are 2 edit distances from 'at' is {len(edit_two_letters('at'))}\")"
   ]
  },
  {
   "cell_type": "code",
   "execution_count": 24,
   "id": "93f47830",
   "metadata": {},
   "outputs": [
    {
     "name": "stdout",
     "output_type": "stream",
     "text": [
      "[]\n",
      "['a', 'b']\n",
      "['Most', 'Likely']\n",
      "['least', 'of', 'all']\n"
     ]
    }
   ],
   "source": [
    "print( [] and [\"a\",\"b\"] )\n",
    "print( [] or [\"a\",\"b\"] )\n",
    "\n",
    "val1 =  [\"Most\",\"Likely\"] or [\"Less\",\"so\"] or [\"least\",\"of\",\"all\"] \n",
    "print(val1)\n",
    "val2 =  [] or [] or [\"least\",\"of\",\"all\"] \n",
    "print(val2)"
   ]
  },
  {
   "cell_type": "code",
   "execution_count": 25,
   "id": "0e415de4",
   "metadata": {},
   "outputs": [],
   "source": [
    "# Create a dictionary where the key is a suggestion and the value is the probability of that word in vocabulary. \n",
    "# If the word is not in the vocabulary, assign it a probability of 0.\n",
    "\n",
    "def get_corrections(word, probs, vocab, n=2, verbose = False):\n",
    "\n",
    "    suggestions = []\n",
    "    n_best = []\n",
    "    two_edits = edit_two_letters(word, allow_switches = False)\n",
    "    one_edit = edit_one_letter(word, allow_switches = False)\n",
    "    \n",
    "    if word in vocab:\n",
    "        n_best.append((word, 100))\n",
    "    else:\n",
    "        for item in one_edit:\n",
    "            if item in vocab:\n",
    "                suggestions.append(item)\n",
    "        for item in two_edits:\n",
    "            if item in vocab:\n",
    "                suggestions.append(item)\n",
    "        suggestions = Counter(suggestions).most_common(n)\n",
    "        n_best.append((suggestions[0][0], probs[suggestions[0][0]]))\n",
    "        n_best.append((suggestions[1][0], probs[suggestions[1][0]]))\n",
    "        suggestions = {suggestions[0][0], suggestions[1][0]}\n",
    "        if len(suggestions) == 0:\n",
    "            n_best.append((word, 0))\n",
    "\n",
    "    return n_best"
   ]
  },
  {
   "cell_type": "code",
   "execution_count": 26,
   "id": "a14de6ad",
   "metadata": {},
   "outputs": [
    {
     "name": "stdout",
     "output_type": "stream",
     "text": [
      "word 0: dye, probability 0.000046\n",
      "word 1: days, probability 0.000976\n",
      "data type of corrections <class 'list'>\n"
     ]
    }
   ],
   "source": [
    "my_word = 'dys' \n",
    "tmp_corrections = get_corrections(my_word, probs, vocab, 2, verbose=True) # keep verbose=True\n",
    "\n",
    "\n",
    "for i, word_prob in enumerate(tmp_corrections):\n",
    "    print(f\"word {i}: {word_prob[0]}, probability {word_prob[1]:.6f}\")\n",
    "\n",
    "\n",
    "print(f\"data type of corrections {type(tmp_corrections)}\")"
   ]
  },
  {
   "cell_type": "code",
   "execution_count": 27,
   "id": "2d6c4c24",
   "metadata": {},
   "outputs": [],
   "source": [
    "# Function which returns the minimum amount of edits required given a source string and a target string\n",
    "\n",
    "def min_edit_distance(source, target, ins_cost = 1, del_cost = 1, rep_cost = 2):\n",
    "\n",
    "    m = len(source) \n",
    "    n = len(target) \n",
    "\n",
    "    D = np.zeros((m+1, n+1), dtype=int) \n",
    "    \n",
    "\n",
    "    for row in range(1, m + 1):\n",
    "        D[row,0] = D[row - 1, 0] + del_cost\n",
    "        \n",
    "    for col in range(1, n + 1): \n",
    "        D[0,col] = D[0, col - 1] + ins_cost\n",
    "        \n",
    "    for row in range(1, m + 1): \n",
    "        \n",
    "        for col in range(1, n + 1):\n",
    "            \n",
    "            r_cost = rep_cost\n",
    "            \n",
    "            if source[row - 1] == target[col - 1]:\n",
    "\n",
    "                r_cost = 0\n",
    "                \n",
    "            D[row,col] = min(D[row, col - 1] + ins_cost, D[row - 1, col] + del_cost, D[row - 1, col - 1] + r_cost)\n",
    "          \n",
    "    med = D[m, n]\n",
    "    return D, med"
   ]
  },
  {
   "cell_type": "code",
   "execution_count": 28,
   "id": "e8f6aa69",
   "metadata": {},
   "outputs": [
    {
     "name": "stdout",
     "output_type": "stream",
     "text": [
      "minimum edits:  4 \n",
      "\n",
      "   #  s  t  a  y\n",
      "#  0  1  2  3  4\n",
      "p  1  2  3  4  5\n",
      "l  2  3  4  5  6\n",
      "a  3  4  5  4  5\n",
      "y  4  5  6  5  4\n"
     ]
    }
   ],
   "source": [
    "source =  'play'\n",
    "target = 'stay'\n",
    "matrix, min_edits = min_edit_distance(source, target)\n",
    "print(\"minimum edits: \",min_edits, \"\\n\")\n",
    "idx = list('#' + source)\n",
    "cols = list('#' + target)\n",
    "df = pd.DataFrame(matrix, index=idx, columns= cols)\n",
    "print(df)"
   ]
  },
  {
   "cell_type": "code",
   "execution_count": 29,
   "id": "259bcba2",
   "metadata": {},
   "outputs": [
    {
     "name": "stdout",
     "output_type": "stream",
     "text": [
      "minimum edits:  3 \n",
      "\n",
      "   #  n  e  a  r\n",
      "#  0  1  2  3  4\n",
      "e  1  2  1  2  3\n",
      "e  2  3  2  3  4\n",
      "r  3  4  3  4  3\n"
     ]
    }
   ],
   "source": [
    "source =  'eer'\n",
    "target = 'near'\n",
    "matrix, min_edits = min_edit_distance(source, target)\n",
    "print(\"minimum edits: \",min_edits, \"\\n\")\n",
    "idx = list(source)\n",
    "idx.insert(0, '#')\n",
    "cols = list(target)\n",
    "cols.insert(0, '#')\n",
    "df = pd.DataFrame(matrix, index=idx, columns= cols)\n",
    "print(df)"
   ]
  },
  {
   "cell_type": "code",
   "execution_count": 30,
   "id": "d5bb02a9",
   "metadata": {},
   "outputs": [
    {
     "name": "stdout",
     "output_type": "stream",
     "text": [
      "eer eer 0\n",
      "eer ere 2\n"
     ]
    }
   ],
   "source": [
    "source = \"eer\"\n",
    "targets = edit_one_letter(source,allow_switches = False)\n",
    "for t in targets:\n",
    "    _, min_edits = min_edit_distance(source, t,1,1,1)  \n",
    "    if min_edits != 1: print(source, t, min_edits)"
   ]
  },
  {
   "cell_type": "code",
   "execution_count": 31,
   "id": "07b10c83",
   "metadata": {},
   "outputs": [
    {
     "name": "stdout",
     "output_type": "stream",
     "text": [
      "eer erpe 3\n",
      "eer erde 3\n",
      "eer are 3\n",
      "eer erze 3\n",
      "eer ure 3\n",
      "eer gre 3\n",
      "eer nre 3\n",
      "eer yre 3\n",
      "eer qre 3\n",
      "eer erje 3\n",
      "eer vre 3\n",
      "eer erhe 3\n",
      "eer erxe 3\n",
      "eer erme 3\n",
      "eer sre 3\n",
      "eer ore 3\n",
      "eer cre 3\n",
      "eer erle 3\n",
      "eer ire 3\n",
      "eer erve 3\n",
      "eer pre 3\n",
      "eer erte 3\n",
      "eer eroe 3\n",
      "eer erce 3\n",
      "eer erie 3\n",
      "eer jre 3\n",
      "eer erye 3\n",
      "eer fre 3\n",
      "eer erne 3\n",
      "eer erqe 3\n",
      "eer erke 3\n",
      "eer xre 3\n",
      "eer erwe 3\n",
      "eer erbe 3\n",
      "eer erae 3\n",
      "eer erge 3\n",
      "eer kre 3\n",
      "eer mre 3\n",
      "eer eer 0\n",
      "eer zre 3\n",
      "eer erfe 3\n",
      "eer tre 3\n",
      "eer bre 3\n",
      "eer dre 3\n",
      "eer wre 3\n",
      "eer lre 3\n",
      "eer erse 3\n",
      "eer rre 3\n",
      "eer hre 3\n",
      "eer erue 3\n"
     ]
    }
   ],
   "source": [
    "source = \"eer\"\n",
    "targets = edit_two_letters(source,allow_switches = False) \n",
    "for t in targets:\n",
    "    _, min_edits = min_edit_distance(source, t,1,1,1)\n",
    "    if min_edits != 2 and min_edits != 1: print(source, t, min_edits)"
   ]
  }
 ],
 "metadata": {
  "kernelspec": {
   "display_name": "Python 3",
   "language": "python",
   "name": "python3"
  },
  "language_info": {
   "codemirror_mode": {
    "name": "ipython",
    "version": 3
   },
   "file_extension": ".py",
   "mimetype": "text/x-python",
   "name": "python",
   "nbconvert_exporter": "python",
   "pygments_lexer": "ipython3",
   "version": "3.8.8"
  }
 },
 "nbformat": 4,
 "nbformat_minor": 5
}
